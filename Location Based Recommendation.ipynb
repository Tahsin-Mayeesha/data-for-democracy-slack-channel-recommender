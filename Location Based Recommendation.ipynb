{
 "cells": [
  {
   "cell_type": "markdown",
   "metadata": {},
   "source": [
    "# Location Based Recommendation : \n",
    "\n",
    "Current implementation only filters for city, state, country and region and shows slack channels that focus on a certain location. It does not filter between archived and non-archived channels yet. I've implemented functions for showing all countries, states, cities and regions available along with functions for running specific query."
   ]
  },
  {
   "cell_type": "markdown",
   "metadata": {},
   "source": [
    "# Getting data : "
   ]
  },
  {
   "cell_type": "code",
   "execution_count": 172,
   "metadata": {
    "collapsed": true
   },
   "outputs": [],
   "source": [
    "# load all libraries\n",
    "\n",
    "import pandas as pd\n",
    "import numpy as np\n",
    "import matplotlib.pyplot as plt\n",
    "%matplotlib inline"
   ]
  },
  {
   "cell_type": "code",
   "execution_count": 2,
   "metadata": {
    "collapsed": true
   },
   "outputs": [],
   "source": [
    "# get the data from github\n",
    "\n",
    "channels  = pd.read_json('https://raw.githubusercontent.com/Data4Democracy/micro-projects/master/d4d-slack-ecosystem/channels20170617.json')"
   ]
  },
  {
   "cell_type": "code",
   "execution_count": 3,
   "metadata": {},
   "outputs": [
    {
     "data": {
      "text/html": [
       "<div>\n",
       "<style>\n",
       "    .dataframe thead tr:only-child th {\n",
       "        text-align: right;\n",
       "    }\n",
       "\n",
       "    .dataframe thead th {\n",
       "        text-align: left;\n",
       "    }\n",
       "\n",
       "    .dataframe tbody tr th {\n",
       "        vertical-align: top;\n",
       "    }\n",
       "</style>\n",
       "<table border=\"1\" class=\"dataframe\">\n",
       "  <thead>\n",
       "    <tr style=\"text-align: right;\">\n",
       "      <th></th>\n",
       "      <th>channels</th>\n",
       "      <th>ok</th>\n",
       "    </tr>\n",
       "  </thead>\n",
       "  <tbody>\n",
       "    <tr>\n",
       "      <th>0</th>\n",
       "      <td>{'is_shared': False, 'num_members': 0, 'name':...</td>\n",
       "      <td>True</td>\n",
       "    </tr>\n",
       "    <tr>\n",
       "      <th>1</th>\n",
       "      <td>{'is_shared': False, 'num_members': 13, 'name'...</td>\n",
       "      <td>True</td>\n",
       "    </tr>\n",
       "    <tr>\n",
       "      <th>2</th>\n",
       "      <td>{'is_shared': False, 'num_members': 96, 'name'...</td>\n",
       "      <td>True</td>\n",
       "    </tr>\n",
       "    <tr>\n",
       "      <th>3</th>\n",
       "      <td>{'is_shared': False, 'num_members': 86, 'name'...</td>\n",
       "      <td>True</td>\n",
       "    </tr>\n",
       "    <tr>\n",
       "      <th>4</th>\n",
       "      <td>{'is_shared': False, 'num_members': 244, 'name...</td>\n",
       "      <td>True</td>\n",
       "    </tr>\n",
       "  </tbody>\n",
       "</table>\n",
       "</div>"
      ],
      "text/plain": [
       "                                            channels    ok\n",
       "0  {'is_shared': False, 'num_members': 0, 'name':...  True\n",
       "1  {'is_shared': False, 'num_members': 13, 'name'...  True\n",
       "2  {'is_shared': False, 'num_members': 96, 'name'...  True\n",
       "3  {'is_shared': False, 'num_members': 86, 'name'...  True\n",
       "4  {'is_shared': False, 'num_members': 244, 'name...  True"
      ]
     },
     "execution_count": 3,
     "metadata": {},
     "output_type": "execute_result"
    }
   ],
   "source": [
    "channels.head()"
   ]
  },
  {
   "cell_type": "code",
   "execution_count": 5,
   "metadata": {},
   "outputs": [
    {
     "data": {
      "text/plain": [
       "{'created': 1488344903,\n",
       " 'creator': 'U4BR0JQLB',\n",
       " 'id': 'C4CJ3J1EK',\n",
       " 'is_archived': True,\n",
       " 'is_channel': True,\n",
       " 'is_general': False,\n",
       " 'is_member': False,\n",
       " 'is_org_shared': False,\n",
       " 'is_shared': False,\n",
       " 'name': '1boston-crash-model',\n",
       " 'name_normalized': '1boston-crash-model',\n",
       " 'num_members': 0,\n",
       " 'previous_names': ['boston-crash-modeling'],\n",
       " 'purpose': {'creator': '', 'last_set': 0, 'value': ''},\n",
       " 'topic': {'creator': '', 'last_set': 0, 'value': ''}}"
      ]
     },
     "execution_count": 5,
     "metadata": {},
     "output_type": "execute_result"
    }
   ],
   "source": [
    "# check one item \n",
    "channels['channels'][0]"
   ]
  },
  {
   "cell_type": "code",
   "execution_count": 7,
   "metadata": {
    "collapsed": true
   },
   "outputs": [],
   "source": [
    "from pandas.io.json import json_normalize"
   ]
  },
  {
   "cell_type": "code",
   "execution_count": 8,
   "metadata": {
    "collapsed": true
   },
   "outputs": [],
   "source": [
    "# json_normalize flattens nested json data to a flat dataframe\n",
    "channel_df = json_normalize(channels['channels'])"
   ]
  },
  {
   "cell_type": "markdown",
   "metadata": {},
   "source": [
    "# Filtering Channels \n",
    "\n",
    "Location based slack channel names generally have city, country or state in their name like 'country-australia' or 'city-boston' so we filter the dataframe on the basis of city, country and state here. I also added a helper dataset for getting all country names. I'll add some more lists containing the city and state's local name later before implementing a general purpose recommender system with nearest neighbour approach."
   ]
  },
  {
   "cell_type": "code",
   "execution_count": 47,
   "metadata": {},
   "outputs": [],
   "source": [
    "# helper dataset to get the countries\n",
    "countries = pd.read_csv(\"country-keyword-list.csv\", header = None, encoding = 'utf-16', names = ['country_name'])\n",
    "countries['country_name'] = countries['country_name'].str.lower()"
   ]
  },
  {
   "cell_type": "code",
   "execution_count": 76,
   "metadata": {},
   "outputs": [],
   "source": [
    "# filter on cities\n",
    "cities = channel_df[channel_df['name_normalized'].str.contains('city')][['name_normalized','purpose.value']]"
   ]
  },
  {
   "cell_type": "code",
   "execution_count": 77,
   "metadata": {
    "collapsed": true
   },
   "outputs": [],
   "source": [
    "# filter on state\n",
    "states = channel_df[channel_df['name_normalized'].str.contains('state')][['name_normalized','purpose.value']]"
   ]
  },
  {
   "cell_type": "code",
   "execution_count": 78,
   "metadata": {},
   "outputs": [],
   "source": [
    "# filter on region\n",
    "region = channel_df[channel_df['name_normalized'].str.contains('region')][['name_normalized','purpose.value']]"
   ]
  },
  {
   "cell_type": "code",
   "execution_count": 174,
   "metadata": {},
   "outputs": [],
   "source": [
    "country_slacks = [] \n",
    "\n",
    "def get_all_country():\n",
    "    \"\"\" returns all slack channel names that focus on certain countries\"\"\"\n",
    "    for name in channel_df['name_normalized']:\n",
    "        for country_name in countries['country_name']:\n",
    "            if country_name in name:\n",
    "                country_slacks.append(name)"
   ]
  },
  {
   "cell_type": "code",
   "execution_count": 175,
   "metadata": {
    "collapsed": true
   },
   "outputs": [],
   "source": [
    "get_all_country()"
   ]
  },
  {
   "cell_type": "markdown",
   "metadata": {},
   "source": [
    "# Query Functions : "
   ]
  },
  {
   "cell_type": "code",
   "execution_count": 176,
   "metadata": {
    "collapsed": true
   },
   "outputs": [],
   "source": [
    "def show_all_country():\n",
    "    for country in country_slacks:\n",
    "        print('channel: '+ country)"
   ]
  },
  {
   "cell_type": "code",
   "execution_count": 145,
   "metadata": {},
   "outputs": [],
   "source": [
    "def show_all_state():\n",
    "    for row in states.itertuples():\n",
    "        print('channel: '+ row[1])\n",
    "        print('purpose: '+row[2])"
   ]
  },
  {
   "cell_type": "code",
   "execution_count": 146,
   "metadata": {
    "collapsed": true
   },
   "outputs": [],
   "source": [
    "def show_all_city():\n",
    "    for row in cities.itertuples():\n",
    "        print('channel: '+ row[1])\n",
    "        print('purpose: '+row[2])"
   ]
  },
  {
   "cell_type": "code",
   "execution_count": 177,
   "metadata": {},
   "outputs": [
    {
     "name": "stdout",
     "output_type": "stream",
     "text": [
      "channel: country_myanmar\n",
      "channel: country-australia\n",
      "channel: country-canada\n",
      "channel: country-france\n",
      "channel: country-germany\n",
      "channel: country-india\n",
      "channel: country-netherlands\n",
      "channel: country-romania\n",
      "channel: country-romania\n",
      "channel: country-sweden\n",
      "channel: country-turkey\n",
      "channel: indiadata\n",
      "channel: kenya-pol-rhetoric\n",
      "channel: usa-dashboard\n"
     ]
    }
   ],
   "source": [
    "show_all_country()"
   ]
  },
  {
   "cell_type": "code",
   "execution_count": 148,
   "metadata": {},
   "outputs": [
    {
     "name": "stdout",
     "output_type": "stream",
     "text": [
      "channel: state-arkansas\n",
      "purpose: For people living in, interested in, or working on projects related to Arkansas\n",
      "channel: state-colorado\n",
      "purpose: Colorado state issues to research, TABOR impacts, water and land usage, election openness, education you name it.\n",
      "channel: state-florida\n",
      "purpose: Swing state and home of the infamous Florida Man.\n",
      "channel: state-hawaii\n",
      "purpose: Hawaii is just a bunch of islands in the middle of the Pacific.\n",
      "channel: state-iowa\n",
      "purpose: to data the heck out of the hawkeye state\n",
      "channel: state-nc\n",
      "purpose: People living in, traveling to or interested in NC\n",
      "channel: state-nebraska\n",
      "purpose: I would be ecstatic if we get more than one person in here. \n",
      "channel: state-nj\n",
      "purpose: \n",
      "channel: state-ohio\n",
      "purpose: \n",
      "channel: state-tennessee\n",
      "purpose: People living in, interested by, or doing work related to Tennessee\n",
      "channel: state-virginia\n",
      "purpose: \n"
     ]
    }
   ],
   "source": [
    "show_all_state()"
   ]
  },
  {
   "cell_type": "code",
   "execution_count": 149,
   "metadata": {},
   "outputs": [
    {
     "name": "stdout",
     "output_type": "stream",
     "text": [
      "channel: city-atlanta\n",
      "purpose: \n",
      "channel: city-austin\n",
      "purpose: For people in or interested in Austin.\n",
      "channel: city-berlin\n",
      "purpose: \n",
      "channel: city-bloomington-in\n",
      "purpose: D4D efforts connected to the City of Bloomington, IN (there are many Bloomingtons)\n",
      "channel: city-boston\n",
      "purpose: City of Boston-related chatter. \n",
      "channel: city-boulder\n",
      "purpose: Boulder, CO!\n",
      "channel: city-chicago\n",
      "purpose: \n",
      "channel: city-cincinnati\n",
      "purpose: \n",
      "channel: city-columbus\n",
      "purpose: For people living in, interested in, or analyzing data from Columbus\n",
      "channel: city-dc\n",
      "purpose: talk about washington, dc related projects\n",
      "channel: city-denver\n",
      "purpose: \n",
      "channel: city-detroit\n",
      "purpose: \n",
      "channel: city-dfw\n",
      "purpose: \n",
      "channel: city-hartford\n",
      "purpose: Chat about data efforts in the nutmeg state and the greater Hartford area!\n",
      "channel: city-honolulu\n",
      "purpose: Anyone interested in projects pertaining to Honolulu, HI.\n",
      "channel: city-houston\n",
      "purpose: For people that love data and live in Houston\n",
      "channel: city-london\n",
      "purpose: Discussions on projects based in London\n",
      "channel: city-losangeles\n",
      "purpose: Collaborate on projects in the greater Los Angeles area and nearby counties in the larger Southern California region.\n",
      "channel: city-louisville\n",
      "purpose: Louisville stuff!\n",
      "channel: city-munich\n",
      "purpose: Willkommen im Münchner Channel!\n",
      "channel: city-nashville\n",
      "purpose: Nashville/Middle TN projects &amp; discussion!\n",
      "channel: city-nyc\n",
      "purpose: Discuss and collaborate on local nyc based data science projects\n",
      "channel: city-pdx\n",
      "purpose: \n",
      "channel: city-philadelphia\n",
      "purpose: Channel for peeps in Philadelphia\n",
      "channel: city-phoenix\n",
      "purpose: For folks in the Phoenix-Metro area (and any other Arizonans, too)\n",
      "channel: city-pittsburgh\n",
      "purpose: steel city data nerds unite\n",
      "channel: city-portland-me\n",
      "purpose: Portland ME\n",
      "channel: city-sanantonio\n",
      "purpose: For people in or interested in San Antonio.\n",
      "channel: city-sandiego\n",
      "purpose: Data Analysis of all things San Diego\n",
      "channel: city-sanfrancisco\n",
      "purpose: Local collaboration\n",
      "channel: city-seattle\n",
      "purpose: Connect locally with Seattle data scientists to discuss local projects\n",
      "channel: city-sf\n",
      "purpose: Collaborate on San Francisco data projects\n",
      "channel: city-stl\n",
      "purpose: Data projects in and about St. Louis, MO\n",
      "channel: city-syracuse\n",
      "purpose: Gathering place for people who want to work on data projects in and around Central New York\n",
      "channel: dc-city\n",
      "purpose: \n",
      "channel: hackathon-city-dc\n",
      "purpose: Discuss projects for the April 1 D4D Hackathon in DC\n"
     ]
    }
   ],
   "source": [
    "show_all_city()"
   ]
  },
  {
   "cell_type": "code",
   "execution_count": 150,
   "metadata": {
    "collapsed": true
   },
   "outputs": [],
   "source": [
    "def query_specific_city(input):\n",
    "    for name in cities['name_normalized']:\n",
    "        if input in name:\n",
    "            print(name)"
   ]
  },
  {
   "cell_type": "code",
   "execution_count": 153,
   "metadata": {},
   "outputs": [
    {
     "name": "stdout",
     "output_type": "stream",
     "text": [
      "city-boston\n"
     ]
    }
   ],
   "source": [
    "query_specific_city('boston')"
   ]
  },
  {
   "cell_type": "code",
   "execution_count": 154,
   "metadata": {
    "collapsed": true
   },
   "outputs": [],
   "source": [
    "def query_specific_state(input):\n",
    "    for name in states['name_normalized']:\n",
    "        if input in name:\n",
    "            print(name)"
   ]
  },
  {
   "cell_type": "code",
   "execution_count": 171,
   "metadata": {},
   "outputs": [
    {
     "name": "stdout",
     "output_type": "stream",
     "text": [
      "state-florida\n"
     ]
    }
   ],
   "source": [
    "query_specific_state('florida')"
   ]
  },
  {
   "cell_type": "code",
   "execution_count": 168,
   "metadata": {},
   "outputs": [],
   "source": [
    "def query_specific_country(input):\n",
    "    for name in country_slacks:\n",
    "        if input in name:\n",
    "            print(name)"
   ]
  },
  {
   "cell_type": "code",
   "execution_count": 169,
   "metadata": {},
   "outputs": [
    {
     "name": "stdout",
     "output_type": "stream",
     "text": [
      "country-australia\n"
     ]
    }
   ],
   "source": [
    "query_specific_country('australia')"
   ]
  },
  {
   "cell_type": "code",
   "execution_count": null,
   "metadata": {
    "collapsed": true
   },
   "outputs": [],
   "source": []
  }
 ],
 "metadata": {
  "kernelspec": {
   "display_name": "Python 3",
   "language": "python",
   "name": "python3"
  },
  "language_info": {
   "codemirror_mode": {
    "name": "ipython",
    "version": 3
   },
   "file_extension": ".py",
   "mimetype": "text/x-python",
   "name": "python",
   "nbconvert_exporter": "python",
   "pygments_lexer": "ipython3",
   "version": "3.5.3"
  }
 },
 "nbformat": 4,
 "nbformat_minor": 2
}
